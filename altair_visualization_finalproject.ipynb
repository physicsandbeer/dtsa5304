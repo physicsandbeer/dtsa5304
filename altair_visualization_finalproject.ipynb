{
 "cells": [
  {
   "cell_type": "code",
   "execution_count": 2,
   "id": "dc10a803",
   "metadata": {},
   "outputs": [
    {
     "name": "stdout",
     "output_type": "stream",
     "text": [
      "Warning: Your Kaggle API key is readable by other users on this system! To fix this, you can run 'chmod 600 /Users/lianne/.kaggle/kaggle.json'\n",
      "jobs-in-data.zip: Skipping, found more recently modified local copy (use --force to force download)\n"
     ]
    }
   ],
   "source": [
    "import pandas as pd\n",
    "import altair as alt\n",
    "\n",
    "!kaggle datasets download -d hummaamqaasim/jobs-in-data"
   ]
  },
  {
   "cell_type": "code",
   "execution_count": null,
   "id": "e3a44304",
   "metadata": {},
   "outputs": [],
   "source": [
    "!unzip jobs-in-data.zip"
   ]
  },
  {
   "cell_type": "code",
   "execution_count": 3,
   "id": "ced7f621",
   "metadata": {},
   "outputs": [
    {
     "data": {
      "text/plain": [
       "9355"
      ]
     },
     "execution_count": 3,
     "metadata": {},
     "output_type": "execute_result"
    }
   ],
   "source": [
    "df = pd.read_csv(\"jobs_in_data.csv\")\n",
    "len(df.index)"
   ]
  },
  {
   "cell_type": "code",
   "execution_count": 4,
   "id": "21c4697f",
   "metadata": {},
   "outputs": [
    {
     "data": {
      "text/plain": [
       "(4472, 12)"
      ]
     },
     "execution_count": 4,
     "metadata": {},
     "output_type": "execute_result"
    }
   ],
   "source": [
    "data = df[df.work_year == 2023]\n",
    "data = data.sample(frac=0.6, random_state=9)\n",
    "data.shape"
   ]
  },
  {
   "cell_type": "code",
   "execution_count": 5,
   "id": "8c80e0dd",
   "metadata": {},
   "outputs": [
    {
     "data": {
      "text/html": [
       "<div>\n",
       "<style scoped>\n",
       "    .dataframe tbody tr th:only-of-type {\n",
       "        vertical-align: middle;\n",
       "    }\n",
       "\n",
       "    .dataframe tbody tr th {\n",
       "        vertical-align: top;\n",
       "    }\n",
       "\n",
       "    .dataframe thead th {\n",
       "        text-align: right;\n",
       "    }\n",
       "</style>\n",
       "<table border=\"1\" class=\"dataframe\">\n",
       "  <thead>\n",
       "    <tr style=\"text-align: right;\">\n",
       "      <th></th>\n",
       "      <th>work_year</th>\n",
       "      <th>job_title</th>\n",
       "      <th>job_category</th>\n",
       "      <th>salary_currency</th>\n",
       "      <th>salary</th>\n",
       "      <th>salary_in_usd</th>\n",
       "      <th>employee_residence</th>\n",
       "      <th>experience_level</th>\n",
       "      <th>employment_type</th>\n",
       "      <th>work_setting</th>\n",
       "      <th>company_location</th>\n",
       "      <th>company_size</th>\n",
       "    </tr>\n",
       "  </thead>\n",
       "  <tbody>\n",
       "    <tr>\n",
       "      <th>1508</th>\n",
       "      <td>2023</td>\n",
       "      <td>Data Scientist</td>\n",
       "      <td>Data Science and Research</td>\n",
       "      <td>USD</td>\n",
       "      <td>130000</td>\n",
       "      <td>130000</td>\n",
       "      <td>United States</td>\n",
       "      <td>Senior</td>\n",
       "      <td>Full-time</td>\n",
       "      <td>Remote</td>\n",
       "      <td>United States</td>\n",
       "      <td>M</td>\n",
       "    </tr>\n",
       "    <tr>\n",
       "      <th>817</th>\n",
       "      <td>2023</td>\n",
       "      <td>Data Scientist</td>\n",
       "      <td>Data Science and Research</td>\n",
       "      <td>USD</td>\n",
       "      <td>160000</td>\n",
       "      <td>160000</td>\n",
       "      <td>United States</td>\n",
       "      <td>Senior</td>\n",
       "      <td>Full-time</td>\n",
       "      <td>In-person</td>\n",
       "      <td>United States</td>\n",
       "      <td>M</td>\n",
       "    </tr>\n",
       "    <tr>\n",
       "      <th>5914</th>\n",
       "      <td>2023</td>\n",
       "      <td>Data Analyst</td>\n",
       "      <td>Data Analysis</td>\n",
       "      <td>USD</td>\n",
       "      <td>120000</td>\n",
       "      <td>120000</td>\n",
       "      <td>United States</td>\n",
       "      <td>Senior</td>\n",
       "      <td>Full-time</td>\n",
       "      <td>Remote</td>\n",
       "      <td>United States</td>\n",
       "      <td>M</td>\n",
       "    </tr>\n",
       "    <tr>\n",
       "      <th>5002</th>\n",
       "      <td>2023</td>\n",
       "      <td>Data Analyst</td>\n",
       "      <td>Data Analysis</td>\n",
       "      <td>USD</td>\n",
       "      <td>80000</td>\n",
       "      <td>80000</td>\n",
       "      <td>United States</td>\n",
       "      <td>Senior</td>\n",
       "      <td>Full-time</td>\n",
       "      <td>Remote</td>\n",
       "      <td>United States</td>\n",
       "      <td>M</td>\n",
       "    </tr>\n",
       "    <tr>\n",
       "      <th>2845</th>\n",
       "      <td>2023</td>\n",
       "      <td>Data Scientist</td>\n",
       "      <td>Data Science and Research</td>\n",
       "      <td>USD</td>\n",
       "      <td>130500</td>\n",
       "      <td>130500</td>\n",
       "      <td>United States</td>\n",
       "      <td>Mid-level</td>\n",
       "      <td>Full-time</td>\n",
       "      <td>In-person</td>\n",
       "      <td>United States</td>\n",
       "      <td>M</td>\n",
       "    </tr>\n",
       "  </tbody>\n",
       "</table>\n",
       "</div>"
      ],
      "text/plain": [
       "      work_year       job_title               job_category salary_currency  \\\n",
       "1508       2023  Data Scientist  Data Science and Research             USD   \n",
       "817        2023  Data Scientist  Data Science and Research             USD   \n",
       "5914       2023    Data Analyst              Data Analysis             USD   \n",
       "5002       2023    Data Analyst              Data Analysis             USD   \n",
       "2845       2023  Data Scientist  Data Science and Research             USD   \n",
       "\n",
       "      salary  salary_in_usd employee_residence experience_level  \\\n",
       "1508  130000         130000      United States           Senior   \n",
       "817   160000         160000      United States           Senior   \n",
       "5914  120000         120000      United States           Senior   \n",
       "5002   80000          80000      United States           Senior   \n",
       "2845  130500         130500      United States        Mid-level   \n",
       "\n",
       "     employment_type work_setting company_location company_size  \n",
       "1508       Full-time       Remote    United States            M  \n",
       "817        Full-time    In-person    United States            M  \n",
       "5914       Full-time       Remote    United States            M  \n",
       "5002       Full-time       Remote    United States            M  \n",
       "2845       Full-time    In-person    United States            M  "
      ]
     },
     "execution_count": 5,
     "metadata": {},
     "output_type": "execute_result"
    }
   ],
   "source": [
    "data.head()"
   ]
  },
  {
   "cell_type": "code",
   "execution_count": 43,
   "id": "deba9300",
   "metadata": {},
   "outputs": [],
   "source": [
    "# Let's implement filtering using dynamic queries. \n",
    "selection = alt.selection_point(fields=[\"job_category\"])\n",
    "selection2 = alt.selection_point(fields=[\"job_title\"])\n",
    "\n",
    "# Create a container for our two different views\n",
    "base = alt.Chart(data, title=\"Salaries for Data Related Jobs\").properties(width=1200, height=800)\n",
    "\n",
    "# Let's specify our overview chart\n",
    "bars = base.mark_bar(size=70).encode(\n",
    "    x = alt.X(\"median(salary_in_usd)\", title='Median of Salary (USD)'),\n",
    "    y = alt.Y(field='job_category', type='nominal', title='Job Category',\n",
    "              sort=alt.EncodingSortField(field='salary_in_usd', op='count', order='descending')),\n",
    "    color=alt.condition(selection, alt.value('seagreen'), alt.value('lightgray'))\n",
    ").add_params(selection).properties(\n",
    "    height=800, width=600\n",
    ").interactive()\n",
    "\n",
    "# Create a detail chart\n",
    "detail = hist = base.mark_circle(size=25).encode(\n",
    "    y = alt.Y(field='job_title', type='nominal', title='Job Title',\n",
    "              sort=alt.EncodingSortField(field='salary_in_usd', op='count', order='descending')),\n",
    "    yOffset=\"jitter:Q\",\n",
    "    x=alt.X(\"salary_in_usd\", title='Salary (USD)'),\n",
    "    tooltip=[\"job_title\", \"salary_in_usd\", \"employee_residence\"],\n",
    "    color=alt.Color('job_title', scale=alt.Scale(scheme='category20')).legend(None)\n",
    ").transform_calculate(\n",
    "    # Generate Gaussian jitter with a Box-Muller transform\n",
    "    jitter=\"sqrt(-2*log(random()))*cos(2*PI*random())\"\n",
    ").transform_filter(selection).properties(height=800, width=600).interactive()\n",
    "\n",
    "viz = alt.hconcat(bars, detail)\n",
    "#viz\n",
    "viz.save('index.html')"
   ]
  }
 ],
 "metadata": {
  "kernelspec": {
   "display_name": "Python 3 (ipykernel)",
   "language": "python",
   "name": "python3"
  },
  "language_info": {
   "codemirror_mode": {
    "name": "ipython",
    "version": 3
   },
   "file_extension": ".py",
   "mimetype": "text/x-python",
   "name": "python",
   "nbconvert_exporter": "python",
   "pygments_lexer": "ipython3",
   "version": "3.11.5"
  }
 },
 "nbformat": 4,
 "nbformat_minor": 5
}
